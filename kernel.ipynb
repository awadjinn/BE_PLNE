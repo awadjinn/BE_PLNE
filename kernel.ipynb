{
  "cells": [
    {
      "metadata": {
        "_uuid": "8f2839f25d086af736a60e9eeb907d3b93b6e0e5",
        "_cell_guid": "b1076dfc-b9ad-4769-8c92-a6c4dae69d19",
        "trusted": true
      },
      "cell_type": "code",
      "source": "import numpy as np\nfrom scipy.optimize import linprog",
      "execution_count": null,
      "outputs": []
    },
    {
      "metadata": {
        "_uuid": "4253da17126fda9fbf81ac2de0a71c347aaece0c"
      },
      "cell_type": "markdown",
      "source": "## Question 10.a)"
    },
    {
      "metadata": {
        "_cell_guid": "79c7e3d0-c299-4dcb-8224-4455121ee9b0",
        "_uuid": "d629ff2d2480ee46fbb7e2d37f6b5fab8052498a",
        "trusted": true
      },
      "cell_type": "code",
      "source": "def adj2inc(A):\n    nb_vertex = len(A)\n    nb_edge = int(np.sum(A)/2)\n    I = np.zeros([nb_edge,nb_vertex],dtype=int);\n    k = 0\n    for i in range(nb_vertex):\n        for j in range(i+1,nb_vertex):\n            if A[i,j] == 1:\n                I[k,i] = 1\n                I[k,j] = 1\n                k += 1\n    return(I)",
      "execution_count": null,
      "outputs": []
    },
    {
      "metadata": {
        "_uuid": "c32dda7f8624638f831726065576960c71b5ff8b"
      },
      "cell_type": "markdown",
      "source": "## Question 10.b)"
    },
    {
      "metadata": {
        "trusted": true,
        "_uuid": "f9681a18741f529538f2c33c7dc69d2b4e84439a"
      },
      "cell_type": "code",
      "source": "def inc2adj(I):\n    nb_edge, nb_vertex = I.shape\n    A = np.zeros([nb_vertex,nb_vertex],dtype=int)\n    for i in range(nb_edge):\n        ind = np.where(I[i,:] == 1)[0]\n        A[ind[0], ind[1]] = 1\n        A[ind[1], ind[0]] = 1\n    return A",
      "execution_count": null,
      "outputs": []
    },
    {
      "metadata": {
        "_uuid": "118b836a0d8062b5c081c16139a0c322d0433195"
      },
      "cell_type": "markdown",
      "source": "## Question 11.a)"
    },
    {
      "metadata": {
        "trusted": true,
        "_uuid": "fd7e0595025805186dbe4053d5d6d69dc1736767"
      },
      "cell_type": "code",
      "source": "def couplage_max(I):\n    nb_edge, nb_vertex = I.shape\n    c = [-1 for i in range(nb_edge)]\n    b_ub = [1 for i in range(nb_vertex)]\n    bounds = [(0,1) for i in range(nb_edge)]\n    res  = linprog(c, np.transpose(I), b_ub,bounds=bounds)\n    return(res)\n",
      "execution_count": 8,
      "outputs": []
    },
    {
      "metadata": {
        "trusted": true,
        "_uuid": "08fdcf26be721ff52ee6e40f4e720db2217c55b0"
      },
      "cell_type": "markdown",
      "source": "## Question 11.b)"
    },
    {
      "metadata": {
        "trusted": true,
        "_uuid": "8e346dd97ba6b6ba6fc20ae50b8e900b03bd59da",
        "scrolled": true
      },
      "cell_type": "code",
      "source": "def vertex_cov(I):\n    nb_edge, nb_vertex = I.shape\n    c = [1 for i in range(nb_vertex)]\n    b_ub = [-1 for i in range(nb_edge)]\n    bounds = [(0,1) for i in range(nb_vertex)]\n    res  = linprog(c, -I, b_ub,bounds=bounds)\n    return(res)",
      "execution_count": 9,
      "outputs": []
    },
    {
      "metadata": {
        "_uuid": "0867f0b437293d879937d2aff1dae8bbfc0798c6"
      },
      "cell_type": "markdown",
      "source": "On peut vérifier avec l'exemple suivant que la taille du couplage maximal  et celle du vertex cover minimal sont égaux"
    },
    {
      "metadata": {
        "trusted": true,
        "_uuid": "6d0ad233841e415d00a5f8acf3ae6c36e737c120"
      },
      "cell_type": "code",
      "source": "I = np.array([[0,1,0,1,0,0],[1,0,0,1,0,0],[0,0,1,0,0,1]])\nC = couplage_max(I)\nV = vertex_cov(I)\nprint(\"Taille du couplage maximal: \",-C['fun'])\nprint(\"Taille du vertex cover minimal: \",V['fun'])",
      "execution_count": 17,
      "outputs": [
        {
          "output_type": "stream",
          "text": "Taille du couplage maximal:  2.0\nTaille du vertex cover minimal:  2.0\n",
          "name": "stdout"
        }
      ]
    },
    {
      "metadata": {
        "trusted": true,
        "_uuid": "98608092999dc2e958a3ce803e6611b17f0ab522"
      },
      "cell_type": "markdown",
      "source": "## Question 12)\nOn calcule le couplage maximal et le vertex cover minimal pour un cycle de $5$ sommets."
    },
    {
      "metadata": {
        "trusted": true,
        "_uuid": "ab72ed821444cf0e74af9be2e50df18dd587cbbb"
      },
      "cell_type": "code",
      "source": "I = np.array([[1,1,0,0,0],[0,1,1,0,0],[0,0,1,1,0],[0,0,0,1,1],[1,0,0,0,1]])\nC = couplage_max(I)\nV = vertex_cov(I)\nprint(\"solution du couplage maximal: \",-C['fun'])\nprint(\"solution du vertex cover minimal: \",V['fun'])\n",
      "execution_count": 21,
      "outputs": [
        {
          "output_type": "stream",
          "text": "solution du couplage maximal:  2.5\nsolution du vertex cover minimal:  2.5\n",
          "name": "stdout"
        }
      ]
    },
    {
      "metadata": {
        "_uuid": "e74b64499897674efd9385033a242abe79e7504c"
      },
      "cell_type": "markdown",
      "source": "On trouve bien que les solutions ne sont pas entiers\n\n## question 13.a)\nPour générer un graphe de $ G (n,p)$"
    },
    {
      "metadata": {
        "trusted": true,
        "_uuid": "206c625d1fce18f8ecb419588dd378d54712389f"
      },
      "cell_type": "code",
      "source": "def graphe_alea(n,p):\n    ",
      "execution_count": null,
      "outputs": []
    },
    {
      "metadata": {
        "trusted": true,
        "_uuid": "baad410fe34e30502e636d1b7543c2b05767d2d1"
      },
      "cell_type": "code",
      "source": "",
      "execution_count": null,
      "outputs": []
    }
  ],
  "metadata": {
    "kernelspec": {
      "display_name": "Python 3",
      "language": "python",
      "name": "python3"
    },
    "language_info": {
      "name": "python",
      "version": "3.6.6",
      "mimetype": "text/x-python",
      "codemirror_mode": {
        "name": "ipython",
        "version": 3
      },
      "pygments_lexer": "ipython3",
      "nbconvert_exporter": "python",
      "file_extension": ".py"
    }
  },
  "nbformat": 4,
  "nbformat_minor": 1
}